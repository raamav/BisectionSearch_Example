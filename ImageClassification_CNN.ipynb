{
  "nbformat": 4,
  "nbformat_minor": 0,
  "metadata": {
    "colab": {
      "name": "ImageClassification_CNN.ipynb",
      "provenance": [],
      "collapsed_sections": [],
      "authorship_tag": "ABX9TyPdcelqvrnY6X1IPFcEjvK2",
      "include_colab_link": true
    },
    "kernelspec": {
      "name": "python3",
      "display_name": "Python 3"
    }
  },
  "cells": [
    {
      "cell_type": "markdown",
      "metadata": {
        "id": "view-in-github",
        "colab_type": "text"
      },
      "source": [
        "<a href=\"https://colab.research.google.com/github/raamav/BisectionSearch_Example/blob/master/ImageClassification_CNN.ipynb\" target=\"_parent\"><img src=\"https://colab.research.google.com/assets/colab-badge.svg\" alt=\"Open In Colab\"/></a>"
      ]
    },
    {
      "cell_type": "markdown",
      "metadata": {
        "id": "30fntaYhMVn9",
        "colab_type": "text"
      },
      "source": [
        "# Image Classification Using CNN\n",
        "The purpose of this notebook is to create an image classifier using Convolutional Neural Networks (CNN)\n",
        "\n",
        "The datset thats being used is the CIFAR10.\n",
        "\n",
        "<br>\n",
        "\n",
        "### Approach Summary & Result\n",
        "TBD\n",
        "\n",
        "<br>\n",
        "\n",
        "**CONTENTS**\n",
        "1. Getting/Setting-up the Data\n",
        "2. Visualizing Data\n",
        "3. Data Pre-Processing\n",
        "4. Specifying the CNN Architechture\n",
        "5. Training the CNN & Evaluating Performance\n",
        "6. Closing Comments \n",
        "\n",
        "<br>\n",
        "\n",
        "***\n",
        "\n",
        "<br>\n",
        "\n",
        "## 1.Getting/Setting-up the Data"
      ]
    },
    {
      "cell_type": "code",
      "metadata": {
        "id": "-bTRtc92OlPr",
        "colab_type": "code",
        "colab": {}
      },
      "source": [
        ""
      ],
      "execution_count": 0,
      "outputs": []
    }
  ]
}