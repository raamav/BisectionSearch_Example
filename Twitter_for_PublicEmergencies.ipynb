{
  "nbformat": 4,
  "nbformat_minor": 0,
  "metadata": {
    "colab": {
      "name": "Twitter_for_PublicEmergencies.ipynb",
      "provenance": [],
      "authorship_tag": "ABX9TyN8TAG+DzwhaTHZi+5ibZVv",
      "include_colab_link": true
    },
    "kernelspec": {
      "name": "python3",
      "display_name": "Python 3"
    }
  },
  "cells": [
    {
      "cell_type": "markdown",
      "metadata": {
        "id": "view-in-github",
        "colab_type": "text"
      },
      "source": [
        "<a href=\"https://colab.research.google.com/github/raamav/BisectionSearch_Example/blob/master/Twitter_for_PublicEmergencies.ipynb\" target=\"_parent\"><img src=\"https://colab.research.google.com/assets/colab-badge.svg\" alt=\"Open In Colab\"/></a>"
      ]
    },
    {
      "cell_type": "markdown",
      "metadata": {
        "id": "TL4eFsRTgr9C",
        "colab_type": "text"
      },
      "source": [
        "# \"Real or NOT\" : NLP to Identify Public Emergency Related Tweets\n",
        "\n",
        "\n",
        "## Introduction\n",
        "\n",
        "Being able to predict which Tweets are about real Public Emergencies (*eg Earthquakes, Floods, Terrorist Events*) and which ones are not. \n",
        "\n",
        "(The words 'Pubic Emergency' and 'Disasters' have been used interchangeably)\n",
        "\n",
        "> Twitter has become an important communication channel in times of emergency.\n",
        "The ubiquitousness of smartphones enables people to announce an emergency they’re observing in real-time. Because of this, more agencies are interested in programatically monitoring Twitter (i.e. disaster relief organizations and news agencies).\n",
        "\n",
        "> But, it’s not always clear whether a person’s words are actually announcing a disaster. \n",
        "\n",
        "*Source: [Real or Not? NLP with Disaster Tweets, A Kaggle Competition](https://www.kaggle.com/c/nlp-getting-started/overview)*\n",
        "\n",
        "<BR>\n",
        "\n",
        "### Goal\n",
        "\n",
        "This is the second exploration of the dataset. In the 1st attempt an ensemble of ensemble methods yielded 80% accuracy on the test data. \n",
        "\n",
        "The goal is to get a better model using Deep Learning.\n",
        "\n",
        "**Note: This notebook lays more emphasis on model building as the orevious notebook features extensive data exploration.**\n",
        "\n",
        "<BR>\n",
        "\n",
        "### Approach Summary\n",
        "*TBD*\n",
        "\n",
        "<BR>\n",
        "\n",
        "### Results\n",
        "*tbd*\n",
        "\n",
        "<BR>\n",
        "\n",
        "***\n",
        "\n",
        "\n",
        "## Data Exploration & Pre-Processing"
      ]
    },
    {
      "cell_type": "code",
      "metadata": {
        "id": "d7L2k6z5h_1X",
        "colab_type": "code",
        "colab": {
          "base_uri": "https://localhost:8080/",
          "height": 34
        },
        "outputId": "0a748803-5377-4c4c-db10-f68e1ddcbe73"
      },
      "source": [
        "# STANDARD IMPORTS\n",
        "\n",
        "import tensorflow as tf\n",
        "from tensorflow import keras\n",
        "\n",
        "import numpy as np\n",
        "import pandas as pd\n",
        "\n",
        "\n",
        "%matplotlib inline\n",
        "import matplotlib as mpl\n",
        "import matplotlib.pyplot as plt\n",
        "\n",
        "tf.__version__\n"
      ],
      "execution_count": 123,
      "outputs": [
        {
          "output_type": "execute_result",
          "data": {
            "text/plain": [
              "'2.2.0-rc3'"
            ]
          },
          "metadata": {
            "tags": []
          },
          "execution_count": 123
        }
      ]
    },
    {
      "cell_type": "code",
      "metadata": {
        "id": "7N7FbGrCmVMr",
        "colab_type": "code",
        "colab": {}
      },
      "source": [
        "# A CUSTOM FUNCTION FOR CREATING WORDCLOUDS\n",
        "# AUTHOR: KAVITA GANESAN, https://kavita-ganesan.com/ \n",
        "\n",
        "from PIL import Image\n",
        "from wordcloud import WordCloud, STOPWORDS, ImageColorGenerator\n",
        "\n",
        "\n",
        "def plot_wordcloud(text, max_words=400, \n",
        "                   min_font_size= 4 ,max_font_size=120,\n",
        "                   min_word_lengthint = None,\n",
        "                   figure_size=(24.0,16.0), \n",
        "                   title = None, title_size=40, \n",
        "                   mask = None):\n",
        "    \n",
        "    stopwords = set(STOPWORDS)\n",
        "    \n",
        "    more_stopwords = {'None'}\n",
        "    stopwords = stopwords.union(more_stopwords)\n",
        "\n",
        "    wordcloud = WordCloud(background_color='black',\n",
        "                    width = 1200,\n",
        "                    height = 800,\n",
        "                    stopwords = stopwords,\n",
        "                    max_words = max_words,\n",
        "                    max_font_size = max_font_size,\n",
        "                    min_font_size = min_font_size,\n",
        "                    random_state = 42,\n",
        "                    mask = None)\n",
        "    \n",
        "    wordcloud.generate(text)\n",
        "    \n",
        "    plt.figure(figsize=figure_size)\n",
        "    \n",
        "    plt.imshow(wordcloud);\n",
        "    plt.title(title, fontdict={'size': title_size, 'color': 'black', \n",
        "                                  'verticalalignment': 'bottom'})\n",
        "    plt.axis('off');\n",
        "    plt.tight_layout()  \n",
        "    \n"
      ],
      "execution_count": 0,
      "outputs": []
    },
    {
      "cell_type": "code",
      "metadata": {
        "id": "P_U5-OsDjzhR",
        "colab_type": "code",
        "colab": {}
      },
      "source": [
        "data = pd.read_csv(\"https://raw.githubusercontent.com/raamav/Text-Classification/master/train.csv\")"
      ],
      "execution_count": 0,
      "outputs": []
    },
    {
      "cell_type": "code",
      "metadata": {
        "id": "BCnoIjBnjzsz",
        "colab_type": "code",
        "colab": {
          "base_uri": "https://localhost:8080/",
          "height": 221
        },
        "outputId": "29fcd0c1-71b2-412d-f9ca-8120997f7186"
      },
      "source": [
        "data.info()"
      ],
      "execution_count": 126,
      "outputs": [
        {
          "output_type": "stream",
          "text": [
            "<class 'pandas.core.frame.DataFrame'>\n",
            "RangeIndex: 7613 entries, 0 to 7612\n",
            "Data columns (total 5 columns):\n",
            " #   Column    Non-Null Count  Dtype \n",
            "---  ------    --------------  ----- \n",
            " 0   id        7613 non-null   int64 \n",
            " 1   keyword   7552 non-null   object\n",
            " 2   location  5080 non-null   object\n",
            " 3   text      7613 non-null   object\n",
            " 4   target    7613 non-null   int64 \n",
            "dtypes: int64(2), object(3)\n",
            "memory usage: 297.5+ KB\n"
          ],
          "name": "stdout"
        }
      ]
    },
    {
      "cell_type": "markdown",
      "metadata": {
        "id": "UviPs1XKpB3n",
        "colab_type": "text"
      },
      "source": [
        "One of the first steps is to divide the data into training, validation and test sets. Will be adopting a 70:15:15 split for this purpose"
      ]
    },
    {
      "cell_type": "code",
      "metadata": {
        "id": "FwpFZrkijz2B",
        "colab_type": "code",
        "colab": {}
      },
      "source": [
        "from sklearn.model_selection import train_test_split\n",
        "\n",
        "train, test = train_test_split(data, test_size = 0.3, random_state = 42)\n",
        "val, test = train_test_split(test, test_size = 0.5, random_state = 42)"
      ],
      "execution_count": 0,
      "outputs": []
    },
    {
      "cell_type": "code",
      "metadata": {
        "id": "etBThct2pr9j",
        "colab_type": "code",
        "colab": {
          "base_uri": "https://localhost:8080/",
          "height": 68
        },
        "outputId": "5a5960ac-3576-4233-8179-ba7eb6d92bdf"
      },
      "source": [
        "print(\"train.shape\", train.shape)\n",
        "print(\"val.shape\", val.shape)\n",
        "print(\"test.shape\", test.shape)"
      ],
      "execution_count": 128,
      "outputs": [
        {
          "output_type": "stream",
          "text": [
            "train.shape (5329, 5)\n",
            "val.shape (1142, 5)\n",
            "test.shape (1142, 5)\n"
          ],
          "name": "stdout"
        }
      ]
    },
    {
      "cell_type": "markdown",
      "metadata": {
        "id": "W6N4PpMqq67P",
        "colab_type": "text"
      },
      "source": [
        "Exploring the data, and building functions (and/or pipelines) for preprocessing data. Will also explore the possibility of crating features (although deep learning models do not require extensive feature engineering)"
      ]
    },
    {
      "cell_type": "code",
      "metadata": {
        "id": "lZ-6h87UqM_T",
        "colab_type": "code",
        "colab": {
          "base_uri": "https://localhost:8080/",
          "height": 204
        },
        "outputId": "a2b653f5-30df-4907-e581-75f8802d19ee"
      },
      "source": [
        "train.head(5)"
      ],
      "execution_count": 129,
      "outputs": [
        {
          "output_type": "execute_result",
          "data": {
            "text/html": [
              "<div>\n",
              "<style scoped>\n",
              "    .dataframe tbody tr th:only-of-type {\n",
              "        vertical-align: middle;\n",
              "    }\n",
              "\n",
              "    .dataframe tbody tr th {\n",
              "        vertical-align: top;\n",
              "    }\n",
              "\n",
              "    .dataframe thead th {\n",
              "        text-align: right;\n",
              "    }\n",
              "</style>\n",
              "<table border=\"1\" class=\"dataframe\">\n",
              "  <thead>\n",
              "    <tr style=\"text-align: right;\">\n",
              "      <th></th>\n",
              "      <th>id</th>\n",
              "      <th>keyword</th>\n",
              "      <th>location</th>\n",
              "      <th>text</th>\n",
              "      <th>target</th>\n",
              "    </tr>\n",
              "  </thead>\n",
              "  <tbody>\n",
              "    <tr>\n",
              "      <th>1186</th>\n",
              "      <td>1707</td>\n",
              "      <td>bridge%20collapse</td>\n",
              "      <td>NaN</td>\n",
              "      <td>Ashes 2015: AustraliaÛªs collapse at Trent Br...</td>\n",
              "      <td>0</td>\n",
              "    </tr>\n",
              "    <tr>\n",
              "      <th>4071</th>\n",
              "      <td>5789</td>\n",
              "      <td>hail</td>\n",
              "      <td>Carol Stream, Illinois</td>\n",
              "      <td>GREAT MICHIGAN TECHNIQUE CAMP\\nB1G THANKS TO @...</td>\n",
              "      <td>1</td>\n",
              "    </tr>\n",
              "    <tr>\n",
              "      <th>5461</th>\n",
              "      <td>7789</td>\n",
              "      <td>police</td>\n",
              "      <td>Houston</td>\n",
              "      <td>CNN: Tennessee movie theater shooting suspect ...</td>\n",
              "      <td>1</td>\n",
              "    </tr>\n",
              "    <tr>\n",
              "      <th>5787</th>\n",
              "      <td>8257</td>\n",
              "      <td>rioting</td>\n",
              "      <td>NaN</td>\n",
              "      <td>Still rioting in a couple of hours left until ...</td>\n",
              "      <td>1</td>\n",
              "    </tr>\n",
              "    <tr>\n",
              "      <th>7445</th>\n",
              "      <td>10656</td>\n",
              "      <td>wounds</td>\n",
              "      <td>Lake Highlands</td>\n",
              "      <td>Crack in the path where I wiped out this morni...</td>\n",
              "      <td>0</td>\n",
              "    </tr>\n",
              "  </tbody>\n",
              "</table>\n",
              "</div>"
            ],
            "text/plain": [
              "         id  ... target\n",
              "1186   1707  ...      0\n",
              "4071   5789  ...      1\n",
              "5461   7789  ...      1\n",
              "5787   8257  ...      1\n",
              "7445  10656  ...      0\n",
              "\n",
              "[5 rows x 5 columns]"
            ]
          },
          "metadata": {
            "tags": []
          },
          "execution_count": 129
        }
      ]
    },
    {
      "cell_type": "code",
      "metadata": {
        "id": "CNapkCTXsEl0",
        "colab_type": "code",
        "colab": {
          "base_uri": "https://localhost:8080/",
          "height": 119
        },
        "outputId": "69587da9-72e9-4ea8-a4e1-e058a8ace777"
      },
      "source": [
        "# COUNTS OF NULL VALUES FOR VARIOUS VARIABLES\n",
        "\n",
        "train.isnull().sum()"
      ],
      "execution_count": 130,
      "outputs": [
        {
          "output_type": "execute_result",
          "data": {
            "text/plain": [
              "id             0\n",
              "keyword       44\n",
              "location    1760\n",
              "text           0\n",
              "target         0\n",
              "dtype: int64"
            ]
          },
          "metadata": {
            "tags": []
          },
          "execution_count": 130
        }
      ]
    },
    {
      "cell_type": "code",
      "metadata": {
        "id": "ICfjIVa_smQc",
        "colab_type": "code",
        "colab": {
          "base_uri": "https://localhost:8080/",
          "height": 374
        },
        "outputId": "1d19a42a-f3af-4487-d9e4-434757e88a79"
      },
      "source": [
        "# SETTING THE NULL VALUES AS 'None'\n",
        "\n",
        "train = train.fillna('None')\n",
        "val = val.fillna('None')\n",
        "test = test.fillna('None')\n",
        "\n",
        "# RECHECKING NULL COUNT\n",
        "print(\"\\nTrain\",train.isnull().sum())\n",
        "print(\"\\nVal\",val.isnull().sum())\n",
        "print(\"\\nTest\",test.isnull().sum())"
      ],
      "execution_count": 131,
      "outputs": [
        {
          "output_type": "stream",
          "text": [
            "\n",
            "Train id          0\n",
            "keyword     0\n",
            "location    0\n",
            "text        0\n",
            "target      0\n",
            "dtype: int64\n",
            "\n",
            "Val id          0\n",
            "keyword     0\n",
            "location    0\n",
            "text        0\n",
            "target      0\n",
            "dtype: int64\n",
            "\n",
            "Test id          0\n",
            "keyword     0\n",
            "location    0\n",
            "text        0\n",
            "target      0\n",
            "dtype: int64\n"
          ],
          "name": "stdout"
        }
      ]
    },
    {
      "cell_type": "code",
      "metadata": {
        "id": "rTmnfosexgLH",
        "colab_type": "code",
        "colab": {
          "base_uri": "https://localhost:8080/",
          "height": 111
        },
        "outputId": "8a90324c-6816-4cee-dafd-28be7346dacd"
      },
      "source": [
        "train.head(2)"
      ],
      "execution_count": 132,
      "outputs": [
        {
          "output_type": "execute_result",
          "data": {
            "text/html": [
              "<div>\n",
              "<style scoped>\n",
              "    .dataframe tbody tr th:only-of-type {\n",
              "        vertical-align: middle;\n",
              "    }\n",
              "\n",
              "    .dataframe tbody tr th {\n",
              "        vertical-align: top;\n",
              "    }\n",
              "\n",
              "    .dataframe thead th {\n",
              "        text-align: right;\n",
              "    }\n",
              "</style>\n",
              "<table border=\"1\" class=\"dataframe\">\n",
              "  <thead>\n",
              "    <tr style=\"text-align: right;\">\n",
              "      <th></th>\n",
              "      <th>id</th>\n",
              "      <th>keyword</th>\n",
              "      <th>location</th>\n",
              "      <th>text</th>\n",
              "      <th>target</th>\n",
              "    </tr>\n",
              "  </thead>\n",
              "  <tbody>\n",
              "    <tr>\n",
              "      <th>1186</th>\n",
              "      <td>1707</td>\n",
              "      <td>bridge%20collapse</td>\n",
              "      <td>None</td>\n",
              "      <td>Ashes 2015: AustraliaÛªs collapse at Trent Br...</td>\n",
              "      <td>0</td>\n",
              "    </tr>\n",
              "    <tr>\n",
              "      <th>4071</th>\n",
              "      <td>5789</td>\n",
              "      <td>hail</td>\n",
              "      <td>Carol Stream, Illinois</td>\n",
              "      <td>GREAT MICHIGAN TECHNIQUE CAMP\\nB1G THANKS TO @...</td>\n",
              "      <td>1</td>\n",
              "    </tr>\n",
              "  </tbody>\n",
              "</table>\n",
              "</div>"
            ],
            "text/plain": [
              "        id  ... target\n",
              "1186  1707  ...      0\n",
              "4071  5789  ...      1\n",
              "\n",
              "[2 rows x 5 columns]"
            ]
          },
          "metadata": {
            "tags": []
          },
          "execution_count": 132
        }
      ]
    },
    {
      "cell_type": "markdown",
      "metadata": {
        "id": "Gud4_jEUxkGK",
        "colab_type": "text"
      },
      "source": [
        "The `id` variable isn't really needed so getting rid of it across all the datasets"
      ]
    },
    {
      "cell_type": "code",
      "metadata": {
        "id": "oBXdBpIPjVcw",
        "colab_type": "code",
        "colab": {}
      },
      "source": [
        "train = train.drop('id',1)\n",
        "val = val.drop('id',1)\n",
        "test = test.drop('id',1)"
      ],
      "execution_count": 0,
      "outputs": []
    },
    {
      "cell_type": "code",
      "metadata": {
        "id": "vW92vsSPjVmL",
        "colab_type": "code",
        "colab": {
          "base_uri": "https://localhost:8080/",
          "height": 204
        },
        "outputId": "7ab44e82-64ab-4516-e044-dbc4b44ea957"
      },
      "source": [
        "train.info()"
      ],
      "execution_count": 134,
      "outputs": [
        {
          "output_type": "stream",
          "text": [
            "<class 'pandas.core.frame.DataFrame'>\n",
            "Int64Index: 5329 entries, 1186 to 7270\n",
            "Data columns (total 4 columns):\n",
            " #   Column    Non-Null Count  Dtype \n",
            "---  ------    --------------  ----- \n",
            " 0   keyword   5329 non-null   object\n",
            " 1   location  5329 non-null   object\n",
            " 2   text      5329 non-null   object\n",
            " 3   target    5329 non-null   int64 \n",
            "dtypes: int64(1), object(3)\n",
            "memory usage: 208.2+ KB\n"
          ],
          "name": "stdout"
        }
      ]
    },
    {
      "cell_type": "code",
      "metadata": {
        "id": "H5lgUCIbm4Ly",
        "colab_type": "code",
        "colab": {
          "base_uri": "https://localhost:8080/",
          "height": 669
        },
        "outputId": "5cc4bd25-7416-4a9b-9ead-af7397444443"
      },
      "source": [
        "# WHICH ARE THE TOP KEYWORDS\n",
        "\n",
        "keyword_var = pd.DataFrame(train['keyword'].value_counts())\n",
        "\n",
        "keyword_var[1:21] # Excluding 'None' which is the top keyword\n",
        "\n"
      ],
      "execution_count": 135,
      "outputs": [
        {
          "output_type": "execute_result",
          "data": {
            "text/html": [
              "<div>\n",
              "<style scoped>\n",
              "    .dataframe tbody tr th:only-of-type {\n",
              "        vertical-align: middle;\n",
              "    }\n",
              "\n",
              "    .dataframe tbody tr th {\n",
              "        vertical-align: top;\n",
              "    }\n",
              "\n",
              "    .dataframe thead th {\n",
              "        text-align: right;\n",
              "    }\n",
              "</style>\n",
              "<table border=\"1\" class=\"dataframe\">\n",
              "  <thead>\n",
              "    <tr style=\"text-align: right;\">\n",
              "      <th></th>\n",
              "      <th>keyword</th>\n",
              "    </tr>\n",
              "  </thead>\n",
              "  <tbody>\n",
              "    <tr>\n",
              "      <th>damage</th>\n",
              "      <td>36</td>\n",
              "    </tr>\n",
              "    <tr>\n",
              "      <th>siren</th>\n",
              "      <td>35</td>\n",
              "    </tr>\n",
              "    <tr>\n",
              "      <th>wreckage</th>\n",
              "      <td>34</td>\n",
              "    </tr>\n",
              "    <tr>\n",
              "      <th>fatalities</th>\n",
              "      <td>33</td>\n",
              "    </tr>\n",
              "    <tr>\n",
              "      <th>deluge</th>\n",
              "      <td>31</td>\n",
              "    </tr>\n",
              "    <tr>\n",
              "      <th>emergency</th>\n",
              "      <td>30</td>\n",
              "    </tr>\n",
              "    <tr>\n",
              "      <th>fear</th>\n",
              "      <td>30</td>\n",
              "    </tr>\n",
              "    <tr>\n",
              "      <th>harm</th>\n",
              "      <td>30</td>\n",
              "    </tr>\n",
              "    <tr>\n",
              "      <th>nuclear%20reactor</th>\n",
              "      <td>30</td>\n",
              "    </tr>\n",
              "    <tr>\n",
              "      <th>twister</th>\n",
              "      <td>30</td>\n",
              "    </tr>\n",
              "    <tr>\n",
              "      <th>tsunami</th>\n",
              "      <td>30</td>\n",
              "    </tr>\n",
              "    <tr>\n",
              "      <th>refugees</th>\n",
              "      <td>30</td>\n",
              "    </tr>\n",
              "    <tr>\n",
              "      <th>fatality</th>\n",
              "      <td>30</td>\n",
              "    </tr>\n",
              "    <tr>\n",
              "      <th>derail</th>\n",
              "      <td>30</td>\n",
              "    </tr>\n",
              "    <tr>\n",
              "      <th>weapon</th>\n",
              "      <td>29</td>\n",
              "    </tr>\n",
              "    <tr>\n",
              "      <th>whirlwind</th>\n",
              "      <td>29</td>\n",
              "    </tr>\n",
              "    <tr>\n",
              "      <th>flames</th>\n",
              "      <td>29</td>\n",
              "    </tr>\n",
              "    <tr>\n",
              "      <th>fatal</th>\n",
              "      <td>29</td>\n",
              "    </tr>\n",
              "    <tr>\n",
              "      <th>danger</th>\n",
              "      <td>29</td>\n",
              "    </tr>\n",
              "    <tr>\n",
              "      <th>bloody</th>\n",
              "      <td>29</td>\n",
              "    </tr>\n",
              "  </tbody>\n",
              "</table>\n",
              "</div>"
            ],
            "text/plain": [
              "                   keyword\n",
              "damage                  36\n",
              "siren                   35\n",
              "wreckage                34\n",
              "fatalities              33\n",
              "deluge                  31\n",
              "emergency               30\n",
              "fear                    30\n",
              "harm                    30\n",
              "nuclear%20reactor       30\n",
              "twister                 30\n",
              "tsunami                 30\n",
              "refugees                30\n",
              "fatality                30\n",
              "derail                  30\n",
              "weapon                  29\n",
              "whirlwind               29\n",
              "flames                  29\n",
              "fatal                   29\n",
              "danger                  29\n",
              "bloody                  29"
            ]
          },
          "metadata": {
            "tags": []
          },
          "execution_count": 135
        }
      ]
    },
    {
      "cell_type": "code",
      "metadata": {
        "id": "_lajBs-Znpoh",
        "colab_type": "code",
        "colab": {
          "base_uri": "https://localhost:8080/",
          "height": 638
        },
        "outputId": "50608113-3f32-4e74-902e-744325bb9bb1"
      },
      "source": [
        "# WHICH ARE THE TOP LOCATIONS\n",
        "\n",
        "location_var = pd.DataFrame(train['location'].value_counts())\n",
        "\n",
        "location_var[1:20] # Excluding 'None' which is the top keyword\n"
      ],
      "execution_count": 136,
      "outputs": [
        {
          "output_type": "execute_result",
          "data": {
            "text/html": [
              "<div>\n",
              "<style scoped>\n",
              "    .dataframe tbody tr th:only-of-type {\n",
              "        vertical-align: middle;\n",
              "    }\n",
              "\n",
              "    .dataframe tbody tr th {\n",
              "        vertical-align: top;\n",
              "    }\n",
              "\n",
              "    .dataframe thead th {\n",
              "        text-align: right;\n",
              "    }\n",
              "</style>\n",
              "<table border=\"1\" class=\"dataframe\">\n",
              "  <thead>\n",
              "    <tr style=\"text-align: right;\">\n",
              "      <th></th>\n",
              "      <th>location</th>\n",
              "    </tr>\n",
              "  </thead>\n",
              "  <tbody>\n",
              "    <tr>\n",
              "      <th>USA</th>\n",
              "      <td>77</td>\n",
              "    </tr>\n",
              "    <tr>\n",
              "      <th>New York</th>\n",
              "      <td>48</td>\n",
              "    </tr>\n",
              "    <tr>\n",
              "      <th>United States</th>\n",
              "      <td>38</td>\n",
              "    </tr>\n",
              "    <tr>\n",
              "      <th>London</th>\n",
              "      <td>34</td>\n",
              "    </tr>\n",
              "    <tr>\n",
              "      <th>Canada</th>\n",
              "      <td>23</td>\n",
              "    </tr>\n",
              "    <tr>\n",
              "      <th>UK</th>\n",
              "      <td>19</td>\n",
              "    </tr>\n",
              "    <tr>\n",
              "      <th>Mumbai</th>\n",
              "      <td>17</td>\n",
              "    </tr>\n",
              "    <tr>\n",
              "      <th>Nigeria</th>\n",
              "      <td>17</td>\n",
              "    </tr>\n",
              "    <tr>\n",
              "      <th>Los Angeles, CA</th>\n",
              "      <td>17</td>\n",
              "    </tr>\n",
              "    <tr>\n",
              "      <th>Worldwide</th>\n",
              "      <td>16</td>\n",
              "    </tr>\n",
              "    <tr>\n",
              "      <th>India</th>\n",
              "      <td>16</td>\n",
              "    </tr>\n",
              "    <tr>\n",
              "      <th>Kenya</th>\n",
              "      <td>16</td>\n",
              "    </tr>\n",
              "    <tr>\n",
              "      <th>Washington, DC</th>\n",
              "      <td>14</td>\n",
              "    </tr>\n",
              "    <tr>\n",
              "      <th>Everywhere</th>\n",
              "      <td>14</td>\n",
              "    </tr>\n",
              "    <tr>\n",
              "      <th>California, USA</th>\n",
              "      <td>13</td>\n",
              "    </tr>\n",
              "    <tr>\n",
              "      <th>San Francisco</th>\n",
              "      <td>11</td>\n",
              "    </tr>\n",
              "    <tr>\n",
              "      <th>Indonesia</th>\n",
              "      <td>11</td>\n",
              "    </tr>\n",
              "    <tr>\n",
              "      <th>Australia</th>\n",
              "      <td>11</td>\n",
              "    </tr>\n",
              "    <tr>\n",
              "      <th>Florida</th>\n",
              "      <td>11</td>\n",
              "    </tr>\n",
              "  </tbody>\n",
              "</table>\n",
              "</div>"
            ],
            "text/plain": [
              "                 location\n",
              "USA                    77\n",
              "New York               48\n",
              "United States          38\n",
              "London                 34\n",
              "Canada                 23\n",
              "UK                     19\n",
              "Mumbai                 17\n",
              "Nigeria                17\n",
              "Los Angeles, CA        17\n",
              "Worldwide              16\n",
              "India                  16\n",
              "Kenya                  16\n",
              "Washington, DC         14\n",
              "Everywhere             14\n",
              "California, USA        13\n",
              "San Francisco          11\n",
              "Indonesia              11\n",
              "Australia              11\n",
              "Florida                11"
            ]
          },
          "metadata": {
            "tags": []
          },
          "execution_count": 136
        }
      ]
    },
    {
      "cell_type": "code",
      "metadata": {
        "id": "9IP4KD4muv3q",
        "colab_type": "code",
        "colab": {
          "base_uri": "https://localhost:8080/",
          "height": 85
        },
        "outputId": "964867d3-888a-48be-b9cb-2b04a11f1f9d"
      },
      "source": [
        "! pip install contractions\n",
        "import contractions"
      ],
      "execution_count": 137,
      "outputs": [
        {
          "output_type": "stream",
          "text": [
            "Requirement already satisfied: contractions in /usr/local/lib/python3.6/dist-packages (0.0.24)\n",
            "Requirement already satisfied: textsearch in /usr/local/lib/python3.6/dist-packages (from contractions) (0.0.17)\n",
            "Requirement already satisfied: pyahocorasick in /usr/local/lib/python3.6/dist-packages (from textsearch->contractions) (1.4.0)\n",
            "Requirement already satisfied: Unidecode in /usr/local/lib/python3.6/dist-packages (from textsearch->contractions) (1.1.1)\n"
          ],
          "name": "stdout"
        }
      ]
    },
    {
      "cell_type": "code",
      "metadata": {
        "id": "PaWJ8QdZs4p7",
        "colab_type": "code",
        "colab": {}
      },
      "source": [
        "# FUNCTION TO IMPLEMENT BASIC TEXT PREPROCESSING : LOWER-CASING & REMOVING NUMBERS/PUNCTUATION\n",
        "\n",
        "import re\n",
        "import string\n",
        "import contractions\n",
        "\n",
        "\n",
        "def basic_preprocessor(text):\n",
        "  \n",
        "  import re\n",
        "  import string\n",
        "  import contractions\n",
        "  \n",
        "\n",
        "  # EXPANDING OUT CONTRACTIONS\n",
        "  # e.g : don't -> do not\n",
        "  text = contractions.fix(text)\n",
        "\n",
        "  # TEXT TO LOWERCASE\n",
        "  text = text.lower()\n",
        "\n",
        "    \n",
        "  # The syntax of re.sub() is:: re.sub(pattern, replace, source_string)\n",
        "    \n",
        "  # CODE TO HANDLE POSSESSIVES ('s) \n",
        "  # e.g: movie's -> movie s\n",
        "  # THE HOPE IS THAT LSTMs SHOULD BE ABLE TO PROCESS \"s\" \n",
        "  text = re.sub(r\"(\\w+)'s\", r'\\1 s', text)\n",
        "  \n",
        "  # HANDLING OTHER PUNCTUATION\n",
        "  text = re.sub('\\[.*?\\]', '', text)\n",
        "  text = re.sub('https?://\\S+|www\\.\\S+', '', text)\n",
        "  text = re.sub('<.*?>+', '', text)\n",
        "  text = re.sub('[%s]' % re.escape(string.punctuation), '', text)\n",
        "  text = re.sub('\\n', '', text)\n",
        "  text = re.sub('\\w*\\d\\w*', '', text)\n",
        "    \n",
        "  return text"
      ],
      "execution_count": 0,
      "outputs": []
    },
    {
      "cell_type": "code",
      "metadata": {
        "id": "BW4D3weLtSU0",
        "colab_type": "code",
        "colab": {}
      },
      "source": [
        "# EXPERIMENTING\n",
        "\n",
        "sample = train.apply(lambda x: basic_preprocessor(x['text']),axis=1)\n"
      ],
      "execution_count": 0,
      "outputs": []
    },
    {
      "cell_type": "code",
      "metadata": {
        "id": "7mZtK7hRuXow",
        "colab_type": "code",
        "colab": {
          "base_uri": "https://localhost:8080/",
          "height": 595
        },
        "outputId": "e70a4c9c-7aa9-40d1-d252-c00cb7e4ce4e"
      },
      "source": [
        "for i in range(1,11):\n",
        "  print(\"\\n\", train['text'].iloc[i])\n",
        "  print( sample.iloc[i])"
      ],
      "execution_count": 140,
      "outputs": [
        {
          "output_type": "stream",
          "text": [
            "\n",
            " GREAT MICHIGAN TECHNIQUE CAMP\n",
            "B1G THANKS TO @bmurph1019 \n",
            "@hail_Youtsey . @termn8r13 \n",
            "#GoBlue #WrestleOn http://t.co/OasKgki6Qj\n",
            "great michigan technique  thanks to  hailyoutsey   goblue wrestleon \n",
            "\n",
            " CNN: Tennessee movie theater shooting suspect killed by police http://t.co/dI8ElZsWNR\n",
            "cnn tennessee movie theater shooting suspect killed by police \n",
            "\n",
            " Still rioting in a couple of hours left until I have to be up for class.\n",
            "still rioting in a couple of hours left until i have to be up for class\n",
            "\n",
            " Crack in the path where I wiped out this morning during beach run. Surface wounds on left elbow and right knee. http://t.co/yaqRSximph\n",
            "crack in the path where i wiped out this morning during beach run surface wounds on left elbow and right knee \n",
            "\n",
            " Experts in France begin examining airplane debris found on Reunion Island: French air accident experts on... http://t.co/TagZbcXFj0 #MLB\n",
            "experts in france begin examining airplane debris found on reunion island french air accident experts on  mlb\n",
            "\n",
            " 'I came to kill Indians...for FUN': Video of smirking and remorseless Pakistani killer shows him boasting. http://t.co/FPjLwOXKlg\n",
            "i came to kill indiansfor fun video of smirking and remorseless pakistani killer shows him boasting \n",
            "\n",
            " @JohnsonTionne except idk them?? it's really burning ??????\n",
            "johnsontionne except idk them it is really burning \n",
            "\n",
            " destroy the house\n",
            "destroy the house\n",
            "\n",
            " Police Officer Wounded Suspect Dead After Exchanging Shots http://t.co/XxFk4KHbIw\n",
            "police officer wounded suspect dead after exchanging shots \n",
            "\n",
            " I'm a friggin wreck destiel sucks (read the vine description)\n",
            "https://t.co/MKX6Ux4OZt\n",
            "i am a friggin wreck destiel sucks read the vine description\n"
          ],
          "name": "stdout"
        }
      ]
    },
    {
      "cell_type": "code",
      "metadata": {
        "id": "6eMdX_Xz67rq",
        "colab_type": "code",
        "colab": {}
      },
      "source": [
        "# PREPROCESSING THE TRAINING, VAL AND TEST SETS\n",
        "train['text'] = train.apply(lambda x: basic_preprocessor(x['text']),axis=1)\n",
        "\n",
        "val['text'] = val.apply(lambda x: basic_preprocessor(x['text']),axis=1)\n",
        "\n",
        "test['text'] = test.apply(lambda x: basic_preprocessor(x['text']),axis=1)\n",
        "\n"
      ],
      "execution_count": 0,
      "outputs": []
    },
    {
      "cell_type": "markdown",
      "metadata": {
        "id": "xyrC_m38B3xa",
        "colab_type": "text"
      },
      "source": [
        "Creating the initial model with just the text (contents of the tweet) variable."
      ]
    },
    {
      "cell_type": "code",
      "metadata": {
        "id": "L8vsY91mApWH",
        "colab_type": "code",
        "colab": {}
      },
      "source": [
        "X_train = train[['text']].copy()\n",
        "y_train = train[['target']].copy()\n",
        "\n",
        "X_val = val[['text']].copy()\n",
        "y_val = val[['target']].copy()\n",
        "\n",
        "X_test = test[['text']].copy()\n",
        "y_test = test[['target']].copy()\n",
        "\n"
      ],
      "execution_count": 0,
      "outputs": []
    },
    {
      "cell_type": "markdown",
      "metadata": {
        "id": "IlhS7tF7AphD",
        "colab_type": "text"
      },
      "source": [
        "## Building Vocabulary"
      ]
    },
    {
      "cell_type": "code",
      "metadata": {
        "id": "IeY3oJcWApr_",
        "colab_type": "code",
        "colab": {}
      },
      "source": [
        "# CALCULATING WORD FREQUENCY IN THE CORPUS\n",
        "# AUTHOR: CRISTOF HENKEL, https://www.kaggle.com/christofhenkel/how-to-preprocessing-when-using-embeddings\n",
        "\n",
        "import pandas as pd\n",
        "from tqdm import tqdm\n",
        "tqdm.pandas()\n",
        "\n",
        "def build_vocab(sentences, verbose =  True):\n",
        "    \"\"\"\n",
        "    :param sentences: list of list of words\n",
        "    :return: dictionary of words and their count\n",
        "    \"\"\"\n",
        "    vocab = {}\n",
        "    for sentence in tqdm(sentences, disable = (not verbose)):\n",
        "        for word in sentence:\n",
        "            try:\n",
        "                vocab[word] += 1\n",
        "            except KeyError:\n",
        "                vocab[word] = 1\n",
        "    return vocab"
      ],
      "execution_count": 0,
      "outputs": []
    },
    {
      "cell_type": "code",
      "metadata": {
        "id": "AH34DtQWEGDT",
        "colab_type": "code",
        "colab": {
          "base_uri": "https://localhost:8080/",
          "height": 85
        },
        "outputId": "ecacbc34-9568-4865-e704-005f556700bb"
      },
      "source": [
        "# IMPLEMENTING WORD FREQUENCY FUNCTION, STORING RESULTS IN master_vocab VARIABLE\n",
        "\n",
        "sentences = X_train[\"text\"].progress_apply(lambda x: x.split()).values\n",
        "master_vocab = build_vocab(sentences)"
      ],
      "execution_count": 144,
      "outputs": [
        {
          "output_type": "stream",
          "text": [
            "\n",
            "100%|██████████| 5329/5329 [00:00<00:00, 246933.65it/s]\n",
            "\n",
            "100%|██████████| 5329/5329 [00:00<00:00, 211795.80it/s]\n"
          ],
          "name": "stderr"
        }
      ]
    },
    {
      "cell_type": "code",
      "metadata": {
        "id": "JrutlXP3EGNe",
        "colab_type": "code",
        "colab": {
          "base_uri": "https://localhost:8080/",
          "height": 122
        },
        "outputId": "d822e2cb-c815-4ce8-fa94-4f2f19e5092f"
      },
      "source": [
        "# PRINTING OUT THE TOP K ENTRIES (k = 20)\n",
        "print({k: master_vocab[k] for k in list(master_vocab)[:20]})\n",
        "\n",
        "# TOP 50 WORDS\n",
        "print(\"\\n\")\n",
        "print(sorted(master_vocab, key = lambda x: (-master_vocab[x], x))[0:50])\n",
        "\n",
        "# PRINTING OUT THE LENGTH OF THE VOCABULARY\n",
        "print(\"Length of master vocabulary :\", len(master_vocab))"
      ],
      "execution_count": 145,
      "outputs": [
        {
          "output_type": "stream",
          "text": [
            "{'ashes': 11, 'australia\\x89ûªs': 2, 'collapse': 48, 'at': 377, 'trent': 9, 'bridge': 22, 'among': 8, 'worst': 14, 'in': 1391, 'history': 20, 'england': 8, 'bundled': 2, 'out': 198, 'australia': 15, 'for': 620, 'great': 44, 'michigan': 4, 'technique': 2, 'thanks': 22, 'to': 1407}\n",
            "\n",
            "\n",
            "['the', 'a', 'to', 'in', 'i', 'of', 'and', 'is', 'you', 'for', 'on', 'not', 'it', 'my', 'that', 'with', 'are', 'at', 'by', 'have', 'this', 'from', 's', 'be', 'am', 'was', 'will', 'do', 'like', 'as', 'but', 'so', 'up', 'me', 'we', 'just', 'amp', 'your', 'out', 'can', 'no', 'after', 'all', 'has', 'when', 'fire', 'what', 'an', 'if', 'he']\n",
            "Length of master vocabulary : 13333\n"
          ],
          "name": "stdout"
        }
      ]
    },
    {
      "cell_type": "code",
      "metadata": {
        "id": "OGT4JXMuEGXh",
        "colab_type": "code",
        "colab": {}
      },
      "source": [
        ""
      ],
      "execution_count": 0,
      "outputs": []
    },
    {
      "cell_type": "markdown",
      "metadata": {
        "id": "WhKxAkbKEGao",
        "colab_type": "text"
      },
      "source": [
        "## Using Pre-Trained Embeddings to Determine Extent of Data Standardization"
      ]
    },
    {
      "cell_type": "code",
      "metadata": {
        "id": "QhRJ3xzyEGfS",
        "colab_type": "code",
        "colab": {
          "base_uri": "https://localhost:8080/",
          "height": 204
        },
        "outputId": "776cfa01-4653-404f-96d9-1be636a8f66b"
      },
      "source": [
        "# IMPORTING THE EMBEDDINGS\n",
        "# AUTHOR: LAURENCE MORONEY, AI ADVOCATE AT GOOGLE \n",
        "\n",
        "# Note this is the 100 dimension version of GloVe from Stanford\n",
        "# I unzipped and hosted it on my site to make this notebook easier\n",
        "!wget --no-check-certificate \\\n",
        "    https://storage.googleapis.com/laurencemoroney-blog.appspot.com/glove.6B.100d.txt \\\n",
        "    -O /tmp/glove.6B.100d.txt\n",
        "\n",
        "embeddings_index = {};\n",
        "\n",
        "with open('/tmp/glove.6B.100d.txt') as f:\n",
        "    for line in f:\n",
        "        values = line.split();\n",
        "        word = values[0];\n",
        "        coefs = np.asarray(values[1:], dtype='float32');\n",
        "        embeddings_index[word] = coefs;"
      ],
      "execution_count": 146,
      "outputs": [
        {
          "output_type": "stream",
          "text": [
            "--2020-04-27 06:31:46--  https://storage.googleapis.com/laurencemoroney-blog.appspot.com/glove.6B.100d.txt\n",
            "Resolving storage.googleapis.com (storage.googleapis.com)... 172.217.204.128, 2607:f8b0:400c:c07::80\n",
            "Connecting to storage.googleapis.com (storage.googleapis.com)|172.217.204.128|:443... connected.\n",
            "HTTP request sent, awaiting response... 200 OK\n",
            "Length: 347116733 (331M) [text/plain]\n",
            "Saving to: ‘/tmp/glove.6B.100d.txt’\n",
            "\n",
            "/tmp/glove.6B.100d. 100%[===================>] 331.04M   117MB/s    in 2.8s    \n",
            "\n",
            "2020-04-27 06:31:49 (117 MB/s) - ‘/tmp/glove.6B.100d.txt’ saved [347116733/347116733]\n",
            "\n"
          ],
          "name": "stdout"
        }
      ]
    },
    {
      "cell_type": "code",
      "metadata": {
        "id": "Q1nngpo7EGiV",
        "colab_type": "code",
        "colab": {
          "base_uri": "https://localhost:8080/",
          "height": 34
        },
        "outputId": "31aec2a5-1f93-431f-99da-f298ffdfc92e"
      },
      "source": [
        "# PRINT OUT THE LENGTH OF THE DICTIONARY\n",
        "\n",
        "print(\"len(embeddings_index)\",len(embeddings_index))"
      ],
      "execution_count": 147,
      "outputs": [
        {
          "output_type": "stream",
          "text": [
            "len(embeddings_index) 400000\n"
          ],
          "name": "stdout"
        }
      ]
    },
    {
      "cell_type": "code",
      "metadata": {
        "id": "aTWgMnYRFkJI",
        "colab_type": "code",
        "colab": {}
      },
      "source": [
        "# DEFINING FUNCTION CHECK OVERLAP BETWEEN master_vocab AND embeddings_index\n",
        "# AUTHOR: CRISTOF HENKEL, https://www.kaggle.com/christofhenkel/how-to-preprocessing-when-using-embeddings\n",
        "\n",
        "import operator \n",
        "\n",
        "def check_coverage(vocab,embeddings_index):\n",
        "    a = {}\n",
        "    oov = {}\n",
        "    k = 0\n",
        "    i = 0\n",
        "    for word in tqdm(vocab):\n",
        "        try:\n",
        "            a[word] = embeddings_index[word]\n",
        "            k += vocab[word]\n",
        "        except:\n",
        "\n",
        "            oov[word] = vocab[word]\n",
        "            i += vocab[word]\n",
        "            pass\n",
        "\n",
        "    print('Found embeddings for {:.2%} of vocab'.format(len(a) / len(vocab)))\n",
        "    print('Found embeddings for  {:.2%} of all text'.format(k / (k + i)))\n",
        "    sorted_x = sorted(oov.items(), key=operator.itemgetter(1))[::-1]\n",
        "\n",
        "    return sorted_x"
      ],
      "execution_count": 0,
      "outputs": []
    },
    {
      "cell_type": "code",
      "metadata": {
        "id": "K-BGoqC0Fnw9",
        "colab_type": "code",
        "colab": {
          "base_uri": "https://localhost:8080/",
          "height": 85
        },
        "outputId": "3e9d51c9-23fb-4ea9-c83a-8c99749e97e1"
      },
      "source": [
        "# IMPLEMENTING THE FUCNTION\n",
        "\n",
        "oov = check_coverage(master_vocab,embeddings_index)"
      ],
      "execution_count": 149,
      "outputs": [
        {
          "output_type": "stream",
          "text": [
            "\n",
            "100%|██████████| 13333/13333 [00:00<00:00, 677776.43it/s]"
          ],
          "name": "stderr"
        },
        {
          "output_type": "stream",
          "text": [
            "Found embeddings for 73.18% of vocab\n",
            "Found embeddings for  93.98% of all text\n"
          ],
          "name": "stdout"
        },
        {
          "output_type": "stream",
          "text": [
            "\n"
          ],
          "name": "stderr"
        }
      ]
    },
    {
      "cell_type": "markdown",
      "metadata": {
        "id": "ALs41niIFtAv",
        "colab_type": "text"
      },
      "source": [
        "It is quite-promising that 73% of words have corresponding entries in the embedding file.\n",
        "\n",
        "Exploring the Top-50 OOV words"
      ]
    },
    {
      "cell_type": "code",
      "metadata": {
        "id": "B1r6sHOkFwuX",
        "colab_type": "code",
        "colab": {
          "base_uri": "https://localhost:8080/",
          "height": 867
        },
        "outputId": "e86f4b8f-9856-428b-830a-794933effd87"
      },
      "source": [
        "oov[0:50]"
      ],
      "execution_count": 150,
      "outputs": [
        {
          "output_type": "execute_result",
          "data": {
            "text/plain": [
              "[('\\x89û', 39),\n",
              " ('\\x89ûò', 24),\n",
              " ('prebreak', 23),\n",
              " ('re\\x89û', 21),\n",
              " ('nowplaying', 19),\n",
              " ('typhoondevastated', 18),\n",
              " ('bestnaijamade', 16),\n",
              " ('\\x89ûó', 15),\n",
              " ('gbbo', 14),\n",
              " ('disea', 13),\n",
              " ('lmao', 13),\n",
              " ('funtenna', 12),\n",
              " ('subreddits', 11),\n",
              " ('\\x89ûïwhen', 10),\n",
              " ('gtgt', 10),\n",
              " ('yyc', 9),\n",
              " ('selfimage', 9),\n",
              " ('rea\\x89û', 8),\n",
              " ('worldnews', 8),\n",
              " ('abstorm', 8),\n",
              " ('sensorsenso', 8),\n",
              " ('sismo', 7),\n",
              " ('arianagrande', 7),\n",
              " ('mediterran', 7),\n",
              " ('spos', 7),\n",
              " ('justinbieber', 6),\n",
              " ('freakiest', 6),\n",
              " ('ices\\x89û', 6),\n",
              " ('trapmusic', 6),\n",
              " ('djicemoon', 6),\n",
              " ('icemoon', 6),\n",
              " ('rì©union', 6),\n",
              " ('animalrescue', 6),\n",
              " ('don\\x89ûªt', 6),\n",
              " ('truthnewsbbccnnislamtruthgodisisterrorismquranlies', 6),\n",
              " ('i\\x89ûªm', 5),\n",
              " ('dorret', 5),\n",
              " ('tcot', 5),\n",
              " ('å£', 5),\n",
              " ('prophetmuhammad', 5),\n",
              " ('chicagoarea', 5),\n",
              " ('directioners', 5),\n",
              " ('mtvhottest', 5),\n",
              " ('wheavenly', 5),\n",
              " ('nasahurricane', 5),\n",
              " ('viralspell', 5),\n",
              " ('by\\x89û', 5),\n",
              " ('usagov', 5),\n",
              " ('strategicpatience', 5),\n",
              " ('can\\x89ûªt', 5)]"
            ]
          },
          "metadata": {
            "tags": []
          },
          "execution_count": 150
        }
      ]
    },
    {
      "cell_type": "code",
      "metadata": {
        "id": "L0smMGPaFw2o",
        "colab_type": "code",
        "colab": {}
      },
      "source": [
        "# DEFINE A MIS-SPELLING DICTIONARY\n",
        "\n",
        "mispell_dict = {\n",
        "  'prebreak': 'pre break',\n",
        "  'nowplaying': 'now playing',\n",
        "  'typhoondevastated': 'typhoon devastated',\n",
        "  'lmao': 'funny'\n",
        "}\n"
      ],
      "execution_count": 0,
      "outputs": []
    },
    {
      "cell_type": "code",
      "metadata": {
        "id": "uVJjDWp6Fw9z",
        "colab_type": "code",
        "colab": {}
      },
      "source": [
        "# WRITING A FUNCTION TO CLEAN THE ABOVE INCONSISTENCIES\n",
        "# AUTHOR: CRISTOF HENKEL, https://www.kaggle.com/christofhenkel/how-to-preprocessing-when-using-embeddings\n",
        "\n",
        "\n",
        "import re\n",
        "\n",
        "def _get_mispell(mispell_dict):\n",
        "    mispell_re = re.compile('(%s)' % '|'.join(mispell_dict.keys()))\n",
        "    return mispell_dict, mispell_re\n",
        "\n",
        "\n",
        "mispellings, mispellings_re = _get_mispell(mispell_dict)\n",
        "\n",
        "\n",
        "\n",
        "def replace_typical_misspell(text):\n",
        "    def replace(match):\n",
        "        return mispellings[match.group(0)]\n",
        "\n",
        "    return mispellings_re.sub(replace, text)"
      ],
      "execution_count": 0,
      "outputs": []
    },
    {
      "cell_type": "code",
      "metadata": {
        "id": "MlfF3C4DJbqC",
        "colab_type": "code",
        "colab": {
          "base_uri": "https://localhost:8080/",
          "height": 119
        },
        "outputId": "29f2e391-8a90-4a45-9f45-7234495bca46"
      },
      "source": [
        "# IMPLEMENTING THE FUNCTION FOR TRAINING AND TEST SETS\n",
        "\n",
        "X_train[\"text\"] = X_train[\"text\"].progress_apply(lambda x: replace_typical_misspell(x))\n",
        "X_val[\"text\"] = X_val[\"text\"].progress_apply(lambda x: replace_typical_misspell(x))\n",
        "X_test[\"text\"] = X_test[\"text\"].progress_apply(lambda x: replace_typical_misspell(x))\n"
      ],
      "execution_count": 153,
      "outputs": [
        {
          "output_type": "stream",
          "text": [
            "\n",
            "100%|██████████| 5329/5329 [00:00<00:00, 168388.96it/s]\n",
            "\n",
            "100%|██████████| 1142/1142 [00:00<00:00, 150214.67it/s]\n",
            "\n",
            "100%|██████████| 1142/1142 [00:00<00:00, 137415.59it/s]\n"
          ],
          "name": "stderr"
        }
      ]
    },
    {
      "cell_type": "code",
      "metadata": {
        "id": "YFppfiTbKDRj",
        "colab_type": "code",
        "colab": {}
      },
      "source": [
        "# BLANK"
      ],
      "execution_count": 0,
      "outputs": []
    },
    {
      "cell_type": "markdown",
      "metadata": {
        "id": "c3_EF5fZKM3F",
        "colab_type": "text"
      },
      "source": [
        "## Tokenizing Text\n",
        "\n",
        "(CANCELED THIS IDEA) Since the Tweets are of more or less the same length, I won't be imposing a 'maximum length' criteria."
      ]
    },
    {
      "cell_type": "code",
      "metadata": {
        "id": "VWGot68_KQG8",
        "colab_type": "code",
        "colab": {}
      },
      "source": [
        "# SPECIFYING HYPERPARAMETERS\n",
        "\n",
        "vocab_size = 7000\n",
        "embedding_dim = 20\n",
        "max_length = 15  \n",
        "trunc_type = 'post'\n",
        "oov_tok = \"<OOV>\""
      ],
      "execution_count": 0,
      "outputs": []
    },
    {
      "cell_type": "code",
      "metadata": {
        "id": "hNFGvXjMKQLI",
        "colab_type": "code",
        "colab": {}
      },
      "source": [
        "# IMPORTING LIBRARIES AND SETTING-UP TOKENIZER\n",
        "\n",
        "from keras.preprocessing.text import Tokenizer\n",
        "from keras.preprocessing.sequence import pad_sequences"
      ],
      "execution_count": 0,
      "outputs": []
    },
    {
      "cell_type": "code",
      "metadata": {
        "id": "XPMNac-QKQPo",
        "colab_type": "code",
        "colab": {}
      },
      "source": [
        "# IMPLEMENTING TOKENIZER\n",
        "\n",
        "tokenizer = Tokenizer(num_words = vocab_size, oov_token = oov_tok)\n",
        "\n",
        "tokenizer.fit_on_texts(X_train['text'])"
      ],
      "execution_count": 0,
      "outputs": []
    },
    {
      "cell_type": "code",
      "metadata": {
        "id": "DdNwPYXtKQTF",
        "colab_type": "code",
        "colab": {
          "base_uri": "https://localhost:8080/",
          "height": 51
        },
        "outputId": "42d20b6f-f696-440b-ebf4-f924784f85b0"
      },
      "source": [
        "# PADDING SEQUENCES - TRAINING SET\n",
        "\n",
        "X_train_seq = tokenizer.texts_to_sequences(X_train['text'])\n",
        "\n",
        "print(\"length of the first training sequence: \",len(X_train_seq[0])) \n",
        "      \n",
        "X_train_pad = pad_sequences(X_train_seq,maxlen = max_length, padding = 'post', truncating = trunc_type)\n",
        "\n",
        "print(\"length of the first training sequence (PADDED): \",len(X_train_pad[0])) "
      ],
      "execution_count": 193,
      "outputs": [
        {
          "output_type": "stream",
          "text": [
            "length of the first training sequence:  15\n",
            "length of the first training sequence (PADDED):  15\n"
          ],
          "name": "stdout"
        }
      ]
    },
    {
      "cell_type": "code",
      "metadata": {
        "id": "U14-I6AkKQXY",
        "colab_type": "code",
        "colab": {
          "base_uri": "https://localhost:8080/",
          "height": 51
        },
        "outputId": "d6eca359-3db1-4cb3-ceef-0730effde1df"
      },
      "source": [
        "# TOKENIZATION AND PADDING ON VALIDATION DATA\n",
        "\n",
        "X_val_seq = tokenizer.texts_to_sequences(X_val['text'])\n",
        "\n",
        "print(\"length of the first test sequence: \",len(X_val_seq[0])) \n",
        "      \n",
        "X_val_pad = pad_sequences(X_val_seq, padding = 'post',maxlen = max_length, truncating = trunc_type)\n",
        "\n",
        "print(\"length of the first training sequence (PADDED): \",len(X_val_pad[0])) \n"
      ],
      "execution_count": 194,
      "outputs": [
        {
          "output_type": "stream",
          "text": [
            "length of the first test sequence:  9\n",
            "length of the first training sequence (PADDED):  15\n"
          ],
          "name": "stdout"
        }
      ]
    },
    {
      "cell_type": "code",
      "metadata": {
        "id": "PmoHtuHYWzpt",
        "colab_type": "code",
        "colab": {
          "base_uri": "https://localhost:8080/",
          "height": 51
        },
        "outputId": "f43768b9-abed-4a25-9bfc-e2dbc489edb1"
      },
      "source": [
        "# TOKENIZATION AND PADDING ON TEST DATA\n",
        "\n",
        "X_test_seq = tokenizer.texts_to_sequences(X_test['text'])\n",
        "\n",
        "print(\"length of the first test sequence: \",len(X_test_seq[0])) \n",
        "      \n",
        "X_test_pad = pad_sequences(X_test_seq, maxlen = max_length,padding = 'post', truncating = trunc_type)\n",
        "\n",
        "print(\"length of the first training sequence (PADDED): \",len(X_test_pad[0])) \n"
      ],
      "execution_count": 195,
      "outputs": [
        {
          "output_type": "stream",
          "text": [
            "length of the first test sequence:  14\n",
            "length of the first training sequence (PADDED):  15\n"
          ],
          "name": "stdout"
        }
      ]
    },
    {
      "cell_type": "code",
      "metadata": {
        "id": "DKykiYTfWzvf",
        "colab_type": "code",
        "colab": {
          "base_uri": "https://localhost:8080/",
          "height": 85
        },
        "outputId": "7b0cb44b-b1e8-4d98-8ae1-a670910bcb7c"
      },
      "source": [
        "print(type(X_train_pad))\n",
        "print(X_train_pad.shape)\n",
        "print(X_val_pad.shape)\n",
        "print(X_test_pad.shape)"
      ],
      "execution_count": 196,
      "outputs": [
        {
          "output_type": "stream",
          "text": [
            "<class 'numpy.ndarray'>\n",
            "(5329, 15)\n",
            "(1142, 15)\n",
            "(1142, 15)\n"
          ],
          "name": "stdout"
        }
      ]
    },
    {
      "cell_type": "code",
      "metadata": {
        "id": "yjcaQUomWz6W",
        "colab_type": "code",
        "colab": {
          "base_uri": "https://localhost:8080/",
          "height": 119
        },
        "outputId": "83e6832e-f9cf-4f97-81f6-60210549975c"
      },
      "source": [
        "X_train_pad[0:3]"
      ],
      "execution_count": 197,
      "outputs": [
        {
          "output_type": "execute_result",
          "data": {
            "text/plain": [
              "array([[ 947, 3285,  164,   19, 1117,  494, 1231,  780,    5,  557, 1232,\n",
              "        3286,   40,  736,   11],\n",
              "       [ 179, 2038, 3287,  495,    4, 4976, 4977, 4978,    0,    0,    0,\n",
              "           0,    0,    0,    0],\n",
              "       [1118, 1735,  222, 1031,  496,  590,  122,   20,   82,    0,    0,\n",
              "           0,    0,    0,    0]], dtype=int32)"
            ]
          },
          "metadata": {
            "tags": []
          },
          "execution_count": 197
        }
      ]
    },
    {
      "cell_type": "markdown",
      "metadata": {
        "id": "By2gGp_IW0Ns",
        "colab_type": "text"
      },
      "source": [
        "## LSTM BASED MODEL"
      ]
    },
    {
      "cell_type": "code",
      "metadata": {
        "id": "M9i4KvMSY2Ks",
        "colab_type": "code",
        "colab": {
          "base_uri": "https://localhost:8080/",
          "height": 493
        },
        "outputId": "b898d3ae-e0ec-47f1-9b45-af0c0048da11"
      },
      "source": [
        "# CLEAR BACKEND DATA\n",
        "\n",
        "keras.backend.clear_session()\n",
        "np.random.seed(42)\n",
        "tf.random.set_seed(42)\n",
        "\n",
        "\n",
        "# CREATE AN LSTM BASED NEURAL NETWORK IN KERAS\n",
        "\n",
        "\n",
        "sentence_length = max_length  # LENGTH OF EACH PADDED SENTENCE = 18\n",
        "\n",
        "\n",
        "lstm_model = keras.models.Sequential([\n",
        "                                          \n",
        "                  keras.layers.Embedding(input_dim = vocab_size + 1,\n",
        "                                         output_dim = embedding_dim,\n",
        "                                         input_length = sentence_length),\n",
        "                          \n",
        "                  \n",
        "                  keras.layers.Bidirectional(keras.layers.LSTM(64, return_sequences = True, dropout = 0.1, recurrent_dropout= 0.1)),\n",
        "                  keras.layers.Bidirectional(keras.layers.LSTM(32)),\n",
        "\n",
        "\n",
        "                  keras.layers.Dense(64, activation = \"relu\"),\n",
        "                  keras.layers.Dropout(rate = 0.2),\n",
        "                  keras.layers.BatchNormalization(),\n",
        "\n",
        "                  keras.layers.Dense(32, activation = \"relu\"),\n",
        "                  keras.layers.Dropout(rate = 0.2),\n",
        "                  keras.layers.BatchNormalization(),\n",
        "\n",
        "                  keras.layers.Dense(1, activation = \"sigmoid\")\n",
        "                  \n",
        "])\n",
        "\n",
        "\n",
        "\n",
        "# VIEW MODEL ARCHITECTURE\n",
        "lstm_model.summary()\n"
      ],
      "execution_count": 198,
      "outputs": [
        {
          "output_type": "stream",
          "text": [
            "Model: \"sequential\"\n",
            "_________________________________________________________________\n",
            "Layer (type)                 Output Shape              Param #   \n",
            "=================================================================\n",
            "embedding (Embedding)        (None, 15, 20)            140020    \n",
            "_________________________________________________________________\n",
            "bidirectional (Bidirectional (None, 15, 128)           43520     \n",
            "_________________________________________________________________\n",
            "bidirectional_1 (Bidirection (None, 64)                41216     \n",
            "_________________________________________________________________\n",
            "dense (Dense)                (None, 64)                4160      \n",
            "_________________________________________________________________\n",
            "dropout (Dropout)            (None, 64)                0         \n",
            "_________________________________________________________________\n",
            "batch_normalization (BatchNo (None, 64)                256       \n",
            "_________________________________________________________________\n",
            "dense_1 (Dense)              (None, 32)                2080      \n",
            "_________________________________________________________________\n",
            "dropout_1 (Dropout)          (None, 32)                0         \n",
            "_________________________________________________________________\n",
            "batch_normalization_1 (Batch (None, 32)                128       \n",
            "_________________________________________________________________\n",
            "dense_2 (Dense)              (None, 1)                 33        \n",
            "=================================================================\n",
            "Total params: 231,413\n",
            "Trainable params: 231,221\n",
            "Non-trainable params: 192\n",
            "_________________________________________________________________\n"
          ],
          "name": "stdout"
        }
      ]
    },
    {
      "cell_type": "code",
      "metadata": {
        "id": "8mOfhKGGY2Pd",
        "colab_type": "code",
        "colab": {
          "base_uri": "https://localhost:8080/",
          "height": 255
        },
        "outputId": "e9d4171b-fca2-472f-c876-fda0bde6fb41"
      },
      "source": [
        "# IMPLEMENT CALLBACKS\n",
        "\n",
        "checkpoint_cb = keras.callbacks.ModelCheckpoint(\"twtr_lstm_best.h5\",save_best_only = True)\n",
        "\n",
        "early_stopping_cb = keras.callbacks.EarlyStopping(patience = 4, restore_best_weights = True)\n",
        "\n",
        "\n",
        "\n",
        "\n",
        "# COMPILE AND FIT MODEL\n",
        "\n",
        "lstm_model.compile(optimizer = \"adam\", loss = \"binary_crossentropy\", metrics = ['accuracy'])\n",
        "\n",
        "history_1 = lstm_model.fit(X_train_pad,y_train, epochs = 20,\n",
        "                            validation_data = (X_val_pad, y_val),\n",
        "                            callbacks = [checkpoint_cb, early_stopping_cb]\n",
        "                            \n",
        "                            )"
      ],
      "execution_count": 199,
      "outputs": [
        {
          "output_type": "stream",
          "text": [
            "Epoch 1/20\n",
            "167/167 [==============================] - 10s 61ms/step - loss: 0.6960 - accuracy: 0.6168 - val_loss: 0.6473 - val_accuracy: 0.7644\n",
            "Epoch 2/20\n",
            "167/167 [==============================] - 9s 54ms/step - loss: 0.4452 - accuracy: 0.8022 - val_loss: 0.5540 - val_accuracy: 0.7294\n",
            "Epoch 3/20\n",
            "167/167 [==============================] - 9s 54ms/step - loss: 0.3212 - accuracy: 0.8701 - val_loss: 0.4875 - val_accuracy: 0.7715\n",
            "Epoch 4/20\n",
            "167/167 [==============================] - 9s 54ms/step - loss: 0.2635 - accuracy: 0.8951 - val_loss: 0.5585 - val_accuracy: 0.7820\n",
            "Epoch 5/20\n",
            "167/167 [==============================] - 9s 54ms/step - loss: 0.2081 - accuracy: 0.9281 - val_loss: 0.5307 - val_accuracy: 0.7811\n",
            "Epoch 6/20\n",
            "167/167 [==============================] - 9s 53ms/step - loss: 0.1745 - accuracy: 0.9338 - val_loss: 0.6571 - val_accuracy: 0.7785\n",
            "Epoch 7/20\n",
            "167/167 [==============================] - 9s 53ms/step - loss: 0.1415 - accuracy: 0.9501 - val_loss: 0.7192 - val_accuracy: 0.7680\n"
          ],
          "name": "stdout"
        }
      ]
    },
    {
      "cell_type": "code",
      "metadata": {
        "id": "9QT_CSe9bYC8",
        "colab_type": "code",
        "colab": {
          "base_uri": "https://localhost:8080/",
          "height": 367
        },
        "outputId": "2bda9642-609c-485d-e7d7-f5c5a80d87f0"
      },
      "source": [
        "history = history_1\n",
        "\n",
        "\n",
        "# BETTER LOOKING PLOTS FOR ACCURACY AND LOSS\n",
        "\n",
        "import matplotlib.pyplot as plt\n",
        "\n",
        "fig,axes = plt.subplots(nrows = 1, ncols = 2, figsize = (12,5))\n",
        "\n",
        "axes[0].plot(history.history['accuracy'])\n",
        "axes[0].plot(history.history['val_accuracy'])\n",
        "axes[0].set_ylim([0.5,1])\n",
        "axes[0].set_title('Model Accuracy')\n",
        "axes[0].set_ylabel('Accuracy')\n",
        "axes[0].set_xlabel('Epoch')\n",
        "axes[0].legend(['Training', 'Validation'], loc='lower right')\n",
        "\n",
        "axes[1].plot(history.history['loss'])\n",
        "axes[1].plot(history.history['val_loss'])\n",
        "axes[1].set_title('Model Loss')\n",
        "axes[1].set_ylabel('Loss')\n",
        "axes[1].set_xlabel('Epoch')\n",
        "axes[1].legend(['Training', 'Validation'], loc='upper left')"
      ],
      "execution_count": 200,
      "outputs": [
        {
          "output_type": "execute_result",
          "data": {
            "text/plain": [
              "<matplotlib.legend.Legend at 0x7f8576421f60>"
            ]
          },
          "metadata": {
            "tags": []
          },
          "execution_count": 200
        },
        {
          "output_type": "display_data",
          "data": {
            "image/png": "[encoded data removed]",
            "text/plain": [
              "<Figure size 864x360 with 2 Axes>"
            ]
          },
          "metadata": {
            "tags": [],
            "needs_background": "light"
          }
        }
      ]
    },
    {
      "cell_type": "code",
      "metadata": {
        "id": "nyqO2yVuY2Ur",
        "colab_type": "code",
        "colab": {}
      },
      "source": [
        ""
      ],
      "execution_count": 0,
      "outputs": []
    },
    {
      "cell_type": "code",
      "metadata": {
        "id": "nPrkj5bGY2aA",
        "colab_type": "code",
        "colab": {}
      },
      "source": [
        ""
      ],
      "execution_count": 0,
      "outputs": []
    },
    {
      "cell_type": "code",
      "metadata": {
        "id": "r26XjqzMY2dj",
        "colab_type": "code",
        "colab": {}
      },
      "source": [
        ""
      ],
      "execution_count": 0,
      "outputs": []
    },
    {
      "cell_type": "code",
      "metadata": {
        "id": "bAPbZut0Y2hO",
        "colab_type": "code",
        "colab": {}
      },
      "source": [
        ""
      ],
      "execution_count": 0,
      "outputs": []
    },
    {
      "cell_type": "code",
      "metadata": {
        "id": "XYx-CYfrW0Sj",
        "colab_type": "code",
        "colab": {}
      },
      "source": [
        ""
      ],
      "execution_count": 0,
      "outputs": []
    },
    {
      "cell_type": "markdown",
      "metadata": {
        "id": "sToew5K7KNAL",
        "colab_type": "text"
      },
      "source": [
        ""
      ]
    }
  ]
}